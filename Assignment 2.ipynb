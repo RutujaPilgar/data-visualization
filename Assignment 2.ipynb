{
 "cells": [
  {
   "cell_type": "code",
   "execution_count": 1,
   "id": "9286ed78",
   "metadata": {},
   "outputs": [],
   "source": [
    "#Create a dataframe with 10 rows on random numbers and 4 columns, (columns labelled as a,b,c,d) and plot a bar chart.\n",
    "import matplotlib.pyplot as plt\n",
    "import numpy as np\n",
    "import pandas as pd\n",
    "%matplotlib inline\n",
    "import seaborn as sns\n",
    "from numpy.random import randn, randint, uniform, sample\n",
    "\n"
   ]
  },
  {
   "cell_type": "code",
   "execution_count": 5,
   "id": "455441dc",
   "metadata": {},
   "outputs": [
    {
     "data": {
      "text/html": [
       "<div>\n",
       "<style scoped>\n",
       "    .dataframe tbody tr th:only-of-type {\n",
       "        vertical-align: middle;\n",
       "    }\n",
       "\n",
       "    .dataframe tbody tr th {\n",
       "        vertical-align: top;\n",
       "    }\n",
       "\n",
       "    .dataframe thead th {\n",
       "        text-align: right;\n",
       "    }\n",
       "</style>\n",
       "<table border=\"1\" class=\"dataframe\">\n",
       "  <thead>\n",
       "    <tr style=\"text-align: right;\">\n",
       "      <th></th>\n",
       "      <th>a</th>\n",
       "      <th>b</th>\n",
       "      <th>c</th>\n",
       "      <th>d</th>\n",
       "    </tr>\n",
       "  </thead>\n",
       "  <tbody>\n",
       "    <tr>\n",
       "      <th>0</th>\n",
       "      <td>0.599361</td>\n",
       "      <td>-0.114150</td>\n",
       "      <td>0.575472</td>\n",
       "      <td>-1.172145</td>\n",
       "    </tr>\n",
       "    <tr>\n",
       "      <th>1</th>\n",
       "      <td>-2.044883</td>\n",
       "      <td>-1.220553</td>\n",
       "      <td>-0.509792</td>\n",
       "      <td>1.069754</td>\n",
       "    </tr>\n",
       "    <tr>\n",
       "      <th>2</th>\n",
       "      <td>-1.164352</td>\n",
       "      <td>1.234764</td>\n",
       "      <td>-0.176603</td>\n",
       "      <td>0.296257</td>\n",
       "    </tr>\n",
       "    <tr>\n",
       "      <th>3</th>\n",
       "      <td>-0.040998</td>\n",
       "      <td>-0.182879</td>\n",
       "      <td>1.136273</td>\n",
       "      <td>-1.069826</td>\n",
       "    </tr>\n",
       "    <tr>\n",
       "      <th>4</th>\n",
       "      <td>0.034624</td>\n",
       "      <td>-0.456387</td>\n",
       "      <td>0.496553</td>\n",
       "      <td>-0.829340</td>\n",
       "    </tr>\n",
       "    <tr>\n",
       "      <th>5</th>\n",
       "      <td>0.971264</td>\n",
       "      <td>1.174198</td>\n",
       "      <td>-0.763219</td>\n",
       "      <td>-2.598180</td>\n",
       "    </tr>\n",
       "    <tr>\n",
       "      <th>6</th>\n",
       "      <td>-0.986841</td>\n",
       "      <td>0.729801</td>\n",
       "      <td>1.034247</td>\n",
       "      <td>0.693087</td>\n",
       "    </tr>\n",
       "    <tr>\n",
       "      <th>7</th>\n",
       "      <td>0.780121</td>\n",
       "      <td>0.285146</td>\n",
       "      <td>-1.606271</td>\n",
       "      <td>1.303335</td>\n",
       "    </tr>\n",
       "    <tr>\n",
       "      <th>8</th>\n",
       "      <td>0.051945</td>\n",
       "      <td>1.200973</td>\n",
       "      <td>1.224863</td>\n",
       "      <td>0.024067</td>\n",
       "    </tr>\n",
       "    <tr>\n",
       "      <th>9</th>\n",
       "      <td>0.087675</td>\n",
       "      <td>-0.453983</td>\n",
       "      <td>0.118928</td>\n",
       "      <td>-0.454988</td>\n",
       "    </tr>\n",
       "  </tbody>\n",
       "</table>\n",
       "</div>"
      ],
      "text/plain": [
       "          a         b         c         d\n",
       "0  0.599361 -0.114150  0.575472 -1.172145\n",
       "1 -2.044883 -1.220553 -0.509792  1.069754\n",
       "2 -1.164352  1.234764 -0.176603  0.296257\n",
       "3 -0.040998 -0.182879  1.136273 -1.069826\n",
       "4  0.034624 -0.456387  0.496553 -0.829340\n",
       "5  0.971264  1.174198 -0.763219 -2.598180\n",
       "6 -0.986841  0.729801  1.034247  0.693087\n",
       "7  0.780121  0.285146 -1.606271  1.303335\n",
       "8  0.051945  1.200973  1.224863  0.024067\n",
       "9  0.087675 -0.453983  0.118928 -0.454988"
      ]
     },
     "execution_count": 5,
     "metadata": {},
     "output_type": "execute_result"
    }
   ],
   "source": [
    "df = pd.DataFrame(randn(10,4),columns= ['a','b','c','d'])\n",
    "df"
   ]
  },
  {
   "cell_type": "code",
   "execution_count": 7,
   "id": "961ef756",
   "metadata": {},
   "outputs": [
    {
     "data": {
      "text/plain": [
       "<function matplotlib.pyplot.show(close=None, block=None)>"
      ]
     },
     "execution_count": 7,
     "metadata": {},
     "output_type": "execute_result"
    },
    {
     "data": {
      "image/png": "[encoded data removed]",
      "text/plain": [
       "<Figure size 432x288 with 1 Axes>"
      ]
     },
     "metadata": {
      "needs_background": "light"
     },
     "output_type": "display_data"
    }
   ],
   "source": [
    "df.plot.bar()\n",
    "plt.title('Bar Graph')\n",
    "plt.show"
   ]
  },
  {
   "cell_type": "code",
   "execution_count": null,
   "id": "114bbd33",
   "metadata": {},
   "outputs": [],
   "source": []
  }
 ],
 "metadata": {
  "kernelspec": {
   "display_name": "Python 3",
   "language": "python",
   "name": "python3"
  },
  "language_info": {
   "codemirror_mode": {
    "name": "ipython",
    "version": 3
   },
   "file_extension": ".py",
   "mimetype": "text/x-python",
   "name": "python",
   "nbconvert_exporter": "python",
   "pygments_lexer": "ipython3",
   "version": "3.8.5"
  }
 },
 "nbformat": 4,
 "nbformat_minor": 5
}
